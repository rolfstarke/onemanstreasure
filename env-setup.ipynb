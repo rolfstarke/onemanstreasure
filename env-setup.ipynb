{
 "cells": [
  {
   "cell_type": "markdown",
   "id": "ba855679",
   "metadata": {},
   "source": [
    "fityone needs python 3.10 "
   ]
  },
  {
   "cell_type": "code",
   "execution_count": null,
   "id": "981a3100",
   "metadata": {},
   "outputs": [],
   "source": [
    "# !mkdir -p /home/jupyter-admin/.config/Ultralytics"
   ]
  },
  {
   "cell_type": "code",
   "execution_count": null,
   "id": "78dc46a8",
   "metadata": {},
   "outputs": [],
   "source": [
    "# !chmod u+w /home/jupyter-admin/.config/Ultralytics"
   ]
  },
  {
   "cell_type": "code",
   "execution_count": null,
   "id": "e00d6812",
   "metadata": {},
   "outputs": [],
   "source": [
    "!pip install roboflow"
   ]
  },
  {
   "cell_type": "code",
   "execution_count": null,
   "id": "fb16e45d",
   "metadata": {},
   "outputs": [],
   "source": [
    "!pip install ultralytics"
   ]
  },
  {
   "cell_type": "code",
   "execution_count": null,
   "id": "8d6faf73",
   "metadata": {},
   "outputs": [],
   "source": [
    "!pip install fiftyone"
   ]
  },
  {
   "cell_type": "code",
   "execution_count": null,
   "id": "c0b985df",
   "metadata": {},
   "outputs": [],
   "source": [
    "!pip install ipywidgets"
   ]
  },
  {
   "cell_type": "code",
   "execution_count": 1,
   "id": "2b40ea6e",
   "metadata": {},
   "outputs": [
    {
     "name": "stdout",
     "output_type": "stream",
     "text": [
      "Requirement already satisfied: opencv-python in /home/freeze/miniconda3/envs/onemanstreasure/lib/python3.10/site-packages (4.11.0.86)\n",
      "Requirement already satisfied: numpy>=1.21.2 in /home/freeze/miniconda3/envs/onemanstreasure/lib/python3.10/site-packages (from opencv-python) (2.2.6)\n"
     ]
    }
   ],
   "source": [
    "!pip install opencv-python"
   ]
  },
  {
   "cell_type": "code",
   "execution_count": null,
   "id": "4413cb2e",
   "metadata": {},
   "outputs": [],
   "source": []
  }
 ],
 "metadata": {
  "kernelspec": {
   "display_name": "onemanstreasure",
   "language": "python",
   "name": "python3"
  },
  "language_info": {
   "codemirror_mode": {
    "name": "ipython",
    "version": 3
   },
   "file_extension": ".py",
   "mimetype": "text/x-python",
   "name": "python",
   "nbconvert_exporter": "python",
   "pygments_lexer": "ipython3",
   "version": "3.10.0"
  }
 },
 "nbformat": 4,
 "nbformat_minor": 5
}
