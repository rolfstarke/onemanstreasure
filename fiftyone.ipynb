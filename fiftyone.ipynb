{
 "cells": [
  {
   "cell_type": "code",
   "execution_count": null,
   "id": "3778b156",
   "metadata": {},
   "outputs": [],
   "source": [
    "import fiftyone as fo\n",
    "import fiftyone.zoo as foz\n",
    "from ultralytics import YOLO\n",
    "from dotenv import load_dotenv\n"
   ]
  },
  {
   "cell_type": "code",
   "execution_count": null,
   "id": "e54f5606",
   "metadata": {},
   "outputs": [],
   "source": [
    "foz.list_zoo_datasets(tags=[\"detection\"])\n",
    "dataset = foz.load_zoo_dataset(\"open-images-v7\", max_samples=100, label_types=\"detections\", classes=[\"Lamp\", \"Door\", \"Chair\", \"Window\"])\n",
    "# dataset.name = \"open-images-v7-lamp-door-chair-window\""
   ]
  },
  {
   "cell_type": "code",
   "execution_count": null,
   "id": "76d6dc1d",
   "metadata": {},
   "outputs": [],
   "source": [
    "\n",
    "\n",
    "load_dotenv(\"settings.env\")\n",
    "\n",
    "model = YOLO(\"/home/freeze/GIT/onemanstreasure/models/windows/2025_07_03_03_model/weights/best.pt\")\n",
    "predictions_view = dataset\n",
    "predictions_view.apply_model(model, label_field=\"windows\")\n",
    "\n",
    "dataset.compute_metadata()\n",
    "session = fo.launch_app(predictions_view)"
   ]
  },
  {
   "cell_type": "code",
   "execution_count": null,
   "id": "4b35a79a",
   "metadata": {},
   "outputs": [],
   "source": []
  },
  {
   "cell_type": "code",
   "execution_count": null,
   "id": "92e45b1a",
   "metadata": {},
   "outputs": [],
   "source": []
  },
  {
   "cell_type": "code",
   "execution_count": null,
   "id": "f56b5ed8",
   "metadata": {},
   "outputs": [],
   "source": []
  }
 ],
 "metadata": {
  "kernelspec": {
   "display_name": "onemanstreasure",
   "language": "python",
   "name": "python3"
  },
  "language_info": {
   "codemirror_mode": {
    "name": "ipython",
    "version": 3
   },
   "file_extension": ".py",
   "mimetype": "text/x-python",
   "name": "python",
   "nbconvert_exporter": "python",
   "pygments_lexer": "ipython3",
   "version": "3.10.0"
  }
 },
 "nbformat": 4,
 "nbformat_minor": 5
}
