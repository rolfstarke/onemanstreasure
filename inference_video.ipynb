{
 "cells": [
  {
   "cell_type": "code",
   "execution_count": null,
   "id": "4e82aaae",
   "metadata": {},
   "outputs": [],
   "source": [
    "from ultralytics import YOLO\n",
    "\n",
    "# Load a pretrained YOLO11n model\n",
    "model = YOLO(\"/home/freeze/GIT/onemanstreasure/notebooks/runs/detect/train/weights/best.pt\")\n",
    "\n",
    "# Define path to video file\n",
    "source = \"/home/freeze/GIT/onemanstreasure/datasets/inferencing/312_5.mp4\"\n",
    "\n",
    "# Run inference on the source\n",
    "results = model(source, stream=True, save=True, project=\"inference_output\", name=\"312_5_results\")"
   ]
  },
  {
   "cell_type": "markdown",
   "id": "1aa38f03",
   "metadata": {},
   "source": [
    "#or this"
   ]
  },
  {
   "cell_type": "code",
   "execution_count": null,
   "id": "05ac28b1",
   "metadata": {},
   "outputs": [],
   "source": [
    "from ultralytics import YOLO\n",
    "import cv2\n",
    "from IPython.display import display, clear_output\n",
    "from PIL import Image\n",
    "import numpy as np\n",
    "\n",
    "# Load model\n",
    "model = YOLO(\"runs/detect/train/weights/best.pt\")\n",
    "\n",
    "# Path to video file\n",
    "source = \"OneMansTreasure/evaluation/leuthener/HD1200_SN46307300_2025-06-17_14-31-32_EG.avi\"\n",
    "\n",
    "# Run inference with streaming\n",
    "results = model(source, stream=True)\n",
    "\n",
    "# Iterate through frames\n",
    "for r in results:\n",
    "    # Get the annotated frame (numpy array)\n",
    "    frame = r.plot()\n",
    "\n",
    "    # Convert to PIL Image for Jupyter display\n",
    "    img = Image.fromarray(cv2.cvtColor(frame, cv2.COLOR_BGR2RGB))\n",
    "\n",
    "    # Display the image\n",
    "    clear_output(wait=True)\n",
    "    display(img)"
   ]
  }
 ],
 "metadata": {
  "kernelspec": {
   "display_name": "onemanstreasure",
   "language": "python",
   "name": "python3"
  },
  "language_info": {
   "codemirror_mode": {
    "name": "ipython",
    "version": 3
   },
   "file_extension": ".py",
   "mimetype": "text/x-python",
   "name": "python",
   "nbconvert_exporter": "python",
   "pygments_lexer": "ipython3",
   "version": "3.10.0"
  }
 },
 "nbformat": 4,
 "nbformat_minor": 5
}
