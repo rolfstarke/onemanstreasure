{
 "cells": [
  {
   "cell_type": "code",
   "execution_count": null,
   "id": "89adf219-54ea-4592-9d9a-d7de79ac449b",
   "metadata": {},
   "outputs": [],
   "source": [
    "%lsmagic"
   ]
  },
  {
   "cell_type": "markdown",
   "id": "1cbc70cc-2cd7-4779-a729-8dc2687073bc",
   "metadata": {},
   "source": [
    "## info notebook\n",
    "\n",
    "change cell to markdown"
   ]
  },
  {
   "cell_type": "code",
   "execution_count": 3,
   "id": "a42a2f60-f089-4f25-91b5-97dafff6b395",
   "metadata": {},
   "outputs": [],
   "source": [
    "import time"
   ]
  },
  {
   "cell_type": "code",
   "execution_count": null,
   "id": "fbcb49f7-6d6f-4389-9240-63bb6426538a",
   "metadata": {},
   "outputs": [
    {
     "name": "stdout",
     "output_type": "stream",
     "text": [
      "3"
     ]
    }
   ],
   "source": [
    "i = 0\n",
    "while i<100000:\n",
    "    time.sleep(1)\n",
    "    i += 1\n",
    "    print(f'\\r{i}', end='', flush=True)"
   ]
  },
  {
   "cell_type": "code",
   "execution_count": null,
   "id": "bf846394-6c8f-422b-828a-feb2a19ef0d6",
   "metadata": {},
   "outputs": [],
   "source": [
    "with open(\"fuckoff.ini\", \"w\") as f:\n",
    "    pass"
   ]
  },
  {
   "cell_type": "code",
   "execution_count": null,
   "id": "234fa13a-0535-4fd5-a587-463a8f5dd6e0",
   "metadata": {},
   "outputs": [],
   "source": []
  }
 ],
 "metadata": {
  "kernelspec": {
   "display_name": "Python 3 (ipykernel)",
   "language": "python",
   "name": "python3"
  },
  "language_info": {
   "codemirror_mode": {
    "name": "ipython",
    "version": 3
   },
   "file_extension": ".py",
   "mimetype": "text/x-python",
   "name": "python",
   "nbconvert_exporter": "python",
   "pygments_lexer": "ipython3",
   "version": "3.12.6"
  }
 },
 "nbformat": 4,
 "nbformat_minor": 5
}
