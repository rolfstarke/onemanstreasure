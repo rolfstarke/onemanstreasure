{
 "cells": [
  {
   "cell_type": "code",
   "execution_count": 1,
   "id": "0e0400fc-89c8-4ca3-9473-96b422d63d0c",
   "metadata": {
    "scrolled": true
   },
   "outputs": [
    {
     "name": "stdout",
     "output_type": "stream",
     "text": [
      "Wed Jul  2 12:46:37 2025       \n",
      "+-----------------------------------------------------------------------------------------+\n",
      "| NVIDIA-SMI 570.133.07             Driver Version: 570.133.07     CUDA Version: 12.8     |\n",
      "|-----------------------------------------+------------------------+----------------------+\n",
      "| GPU  Name                 Persistence-M | Bus-Id          Disp.A | Volatile Uncorr. ECC |\n",
      "| Fan  Temp   Perf          Pwr:Usage/Cap |           Memory-Usage | GPU-Util  Compute M. |\n",
      "|                                         |                        |               MIG M. |\n",
      "|=========================================+========================+======================|\n",
      "|   0  NVIDIA GeForce RTX 2070 ...    Off |   00000000:01:00.0  On |                  N/A |\n",
      "| N/A   48C    P8              7W /   80W |      59MiB /   8192MiB |     33%      Default |\n",
      "|                                         |                        |                  N/A |\n",
      "+-----------------------------------------+------------------------+----------------------+\n",
      "                                                                                         \n",
      "+-----------------------------------------------------------------------------------------+\n",
      "| Processes:                                                                              |\n",
      "|  GPU   GI   CI              PID   Type   Process name                        GPU Memory |\n",
      "|        ID   ID                                                               Usage      |\n",
      "|=========================================================================================|\n",
      "|    0   N/A  N/A            3926      G   /usr/bin/gnome-shell                     41MiB |\n",
      "|    0   N/A  N/A            4115    C+G   /usr/bin/anydesk                          4MiB |\n",
      "+-----------------------------------------------------------------------------------------+\n"
     ]
    }
   ],
   "source": [
    "!nvidia-smi"
   ]
  },
  {
   "cell_type": "code",
   "execution_count": 2,
   "id": "ac230073-f912-471c-a5a5-09d152f01f58",
   "metadata": {},
   "outputs": [
    {
     "name": "stdout",
     "output_type": "stream",
     "text": [
      "/home/freeze/GIT/onemanstreasure/notebooks\n"
     ]
    }
   ],
   "source": [
    "!pwd"
   ]
  },
  {
   "cell_type": "code",
   "execution_count": 3,
   "id": "7a5fa6ab-d910-4570-9f62-3ff8b08cca7a",
   "metadata": {},
   "outputs": [
    {
     "name": "stdout",
     "output_type": "stream",
     "text": [
      "/home/freeze/miniconda3/envs/onemanstreasure/bin:/home/freeze/miniconda3/condabin:/usr/local/sbin:/usr/local/bin:/usr/sbin:/usr/bin:/sbin:/bin:/usr/games:/usr/local/games:/snap/bin:/snap/bin\n"
     ]
    }
   ],
   "source": [
    "!echo $PATH"
   ]
  },
  {
   "cell_type": "code",
   "execution_count": 4,
   "id": "c6869f29-9690-44fe-a2e7-9a8f3eb7f34e",
   "metadata": {
    "scrolled": true
   },
   "outputs": [
    {
     "name": "stdout",
     "output_type": "stream",
     "text": [
      "Package                     Version\n",
      "--------------------------- -----------\n",
      "aiofiles                    24.1.0\n",
      "anyio                       4.9.0\n",
      "argcomplete                 3.6.2\n",
      "asttokens                   3.0.0\n",
      "async-lru                   2.0.5\n",
      "attrs                       25.3.0\n",
      "beautifulsoup4              4.13.4\n",
      "boto3                       1.39.1\n",
      "botocore                    1.39.1\n",
      "Brotli                      1.1.0\n",
      "cachetools                  6.1.0\n",
      "certifi                     2025.6.15\n",
      "charset-normalizer          3.4.2\n",
      "choreographer               1.0.9\n",
      "comm                        0.2.2\n",
      "contourpy                   1.3.2\n",
      "cycler                      0.12.1\n",
      "dacite                      1.7.0\n",
      "debugpy                     1.8.11\n",
      "decorator                   5.2.1\n",
      "Deprecated                  1.2.18\n",
      "dill                        0.4.0\n",
      "dnspython                   2.7.0\n",
      "entrypoints                 0.4\n",
      "exceptiongroup              1.3.0\n",
      "executing                   2.2.0\n",
      "fiftyone                    1.7.0\n",
      "fiftyone-brain              0.21.2\n",
      "fiftyone_db                 1.3.0\n",
      "filelock                    3.18.0\n",
      "filetype                    1.2.0\n",
      "fonttools                   4.58.4\n",
      "fsspec                      2025.5.1\n",
      "ftfy                        6.3.1\n",
      "future                      1.0.0\n",
      "glob2                       0.7\n",
      "graphql-core                3.2.6\n",
      "h11                         0.16.0\n",
      "h2                          4.2.0\n",
      "hpack                       4.1.0\n",
      "httpcore                    1.0.9\n",
      "httpx                       0.28.1\n",
      "humanize                    4.12.3\n",
      "Hypercorn                   0.17.3\n",
      "hyperframe                  6.1.0\n",
      "idna                        3.7\n",
      "imageio                     2.37.0\n",
      "inflate64                   1.0.3\n",
      "ipykernel                   6.29.5\n",
      "ipython                     8.37.0\n",
      "jedi                        0.19.2\n",
      "Jinja2                      3.1.6\n",
      "jmespath                    1.0.1\n",
      "joblib                      1.5.1\n",
      "jsonlines                   4.0.0\n",
      "jupyter-client              7.3.4\n",
      "jupyter_core                5.8.1\n",
      "kaleido                     1.0.0\n",
      "kiwisolver                  1.4.8\n",
      "lazy_loader                 0.4\n",
      "logistro                    1.1.0\n",
      "MarkupSafe                  3.0.2\n",
      "matplotlib                  3.10.3\n",
      "matplotlib-inline           0.1.7\n",
      "mongoengine                 0.29.1\n",
      "motor                       3.6.1\n",
      "mpmath                      1.3.0\n",
      "multivolumefile             0.2.3\n",
      "narwhals                    1.45.0\n",
      "nest_asyncio                1.6.0\n",
      "networkx                    3.4.2\n",
      "numpy                       2.2.6\n",
      "nvidia-cublas-cu12          12.6.4.1\n",
      "nvidia-cuda-cupti-cu12      12.6.80\n",
      "nvidia-cuda-nvrtc-cu12      12.6.77\n",
      "nvidia-cuda-runtime-cu12    12.6.77\n",
      "nvidia-cudnn-cu12           9.5.1.17\n",
      "nvidia-cufft-cu12           11.3.0.4\n",
      "nvidia-cufile-cu12          1.11.1.6\n",
      "nvidia-curand-cu12          10.3.7.77\n",
      "nvidia-cusolver-cu12        11.7.1.2\n",
      "nvidia-cusparse-cu12        12.5.4.2\n",
      "nvidia-cusparselt-cu12      0.6.3\n",
      "nvidia-nccl-cu12            2.26.2\n",
      "nvidia-nvjitlink-cu12       12.6.85\n",
      "nvidia-nvtx-cu12            12.6.77\n",
      "opencv-python               4.11.0.86\n",
      "opencv-python-headless      4.10.0.84\n",
      "orjson                      3.10.18\n",
      "packaging                   25.0\n",
      "pandas                      2.3.0\n",
      "parso                       0.8.4\n",
      "pexpect                     4.9.0\n",
      "pickleshare                 0.7.5\n",
      "pillow                      11.3.0\n",
      "pillow-avif-plugin          1.5.2\n",
      "pillow_heif                 1.0.0\n",
      "pip                         25.1\n",
      "platformdirs                4.3.8\n",
      "plotly                      6.2.0\n",
      "pprintpp                    0.4.0\n",
      "priority                    2.0.0\n",
      "prompt_toolkit              3.0.51\n",
      "psutil                      5.9.1\n",
      "ptyprocess                  0.7.0\n",
      "pure_eval                   0.2.3\n",
      "py-cpuinfo                  9.0.0\n",
      "py7zr                       1.0.0\n",
      "pybcj                       1.0.6\n",
      "pycryptodomex               3.23.0\n",
      "pydash                      8.0.5\n",
      "Pygments                    2.19.2\n",
      "pymongo                     4.9.2\n",
      "pyparsing                   3.2.3\n",
      "pyppmd                      1.2.0\n",
      "python-dateutil             2.9.0.post0\n",
      "python-dotenv               1.1.1\n",
      "pytz                        2025.2\n",
      "PyYAML                      6.0.2\n",
      "pyzmq                       26.2.0\n",
      "pyzstd                      0.17.0\n",
      "rarfile                     4.2\n",
      "regex                       2024.11.6\n",
      "requests                    2.32.4\n",
      "requests-toolbelt           1.0.0\n",
      "retrying                    1.4.0\n",
      "roboflow                    1.2.0\n",
      "rtree                       1.4.0\n",
      "s3transfer                  0.13.0\n",
      "scikit-image                0.25.2\n",
      "scikit-learn                1.7.0\n",
      "scipy                       1.15.3\n",
      "setuptools                  78.1.1\n",
      "simplejson                  3.20.1\n",
      "six                         1.17.0\n",
      "sniffio                     1.3.1\n",
      "sortedcontainers            2.4.0\n",
      "soupsieve                   2.7\n",
      "sse-starlette               0.10.3\n",
      "sseclient-py                1.8.0\n",
      "stack_data                  0.6.3\n",
      "starlette                   0.47.1\n",
      "strawberry-graphql          0.275.5\n",
      "sympy                       1.14.0\n",
      "tabulate                    0.9.0\n",
      "taskgroup                   0.2.2\n",
      "texttable                   1.7.0\n",
      "threadpoolctl               3.6.0\n",
      "tifffile                    2025.5.10\n",
      "tomli                       2.2.1\n",
      "torch                       2.7.1\n",
      "torchvision                 0.22.1\n",
      "tornado                     6.1\n",
      "tqdm                        4.67.1\n",
      "traitlets                   5.14.3\n",
      "triton                      3.3.1\n",
      "typing_extensions           4.14.0\n",
      "tzdata                      2025.2\n",
      "tzlocal                     5.3.1\n",
      "ultralytics                 8.3.161\n",
      "ultralytics-thop            2.0.14\n",
      "universal-analytics-python3 1.1.1\n",
      "urllib3                     2.5.0\n",
      "voxel51-eta                 0.14.2\n",
      "wcwidth                     0.2.13\n",
      "wheel                       0.45.1\n",
      "wrapt                       1.17.2\n",
      "wsproto                     1.2.0\n",
      "xmltodict                   0.14.2\n"
     ]
    }
   ],
   "source": [
    "!pip list"
   ]
  },
  {
   "cell_type": "markdown",
   "id": "b87987ea-053d-4daa-9b38-37aaeba5d94f",
   "metadata": {},
   "source": [
    "**note** the `%lsmagic` commands let you render complex stuff, html for example"
   ]
  },
  {
   "cell_type": "code",
   "execution_count": 5,
   "id": "758edbf3-11b3-4203-898e-35a2ab9bc5bb",
   "metadata": {},
   "outputs": [
    {
     "data": {
      "application/json": {
       "cell": {
        "!": "OSMagics",
        "HTML": "Other",
        "SVG": "Other",
        "bash": "Other",
        "capture": "ExecutionMagics",
        "code_wrap": "ExecutionMagics",
        "debug": "ExecutionMagics",
        "file": "Other",
        "html": "DisplayMagics",
        "javascript": "DisplayMagics",
        "js": "DisplayMagics",
        "latex": "DisplayMagics",
        "markdown": "DisplayMagics",
        "perl": "Other",
        "prun": "ExecutionMagics",
        "pypy": "Other",
        "python": "Other",
        "python2": "Other",
        "python3": "Other",
        "ruby": "Other",
        "script": "ScriptMagics",
        "sh": "Other",
        "svg": "DisplayMagics",
        "sx": "OSMagics",
        "system": "OSMagics",
        "time": "ExecutionMagics",
        "timeit": "ExecutionMagics",
        "writefile": "OSMagics"
       },
       "line": {
        "alias": "OSMagics",
        "alias_magic": "BasicMagics",
        "autoawait": "AsyncMagics",
        "autocall": "AutoMagics",
        "automagic": "AutoMagics",
        "autosave": "KernelMagics",
        "bookmark": "OSMagics",
        "cat": "Other",
        "cd": "OSMagics",
        "clear": "KernelMagics",
        "code_wrap": "ExecutionMagics",
        "colors": "BasicMagics",
        "conda": "PackagingMagics",
        "config": "ConfigMagics",
        "connect_info": "KernelMagics",
        "cp": "Other",
        "debug": "ExecutionMagics",
        "dhist": "OSMagics",
        "dirs": "OSMagics",
        "doctest_mode": "BasicMagics",
        "ed": "Other",
        "edit": "KernelMagics",
        "env": "OSMagics",
        "gui": "BasicMagics",
        "hist": "Other",
        "history": "HistoryMagics",
        "killbgscripts": "ScriptMagics",
        "ldir": "Other",
        "less": "KernelMagics",
        "lf": "Other",
        "lk": "Other",
        "ll": "Other",
        "load": "CodeMagics",
        "load_ext": "ExtensionMagics",
        "loadpy": "CodeMagics",
        "logoff": "LoggingMagics",
        "logon": "LoggingMagics",
        "logstart": "LoggingMagics",
        "logstate": "LoggingMagics",
        "logstop": "LoggingMagics",
        "ls": "Other",
        "lsmagic": "BasicMagics",
        "lx": "Other",
        "macro": "ExecutionMagics",
        "magic": "BasicMagics",
        "mamba": "PackagingMagics",
        "man": "KernelMagics",
        "matplotlib": "PylabMagics",
        "micromamba": "PackagingMagics",
        "mkdir": "Other",
        "more": "KernelMagics",
        "mv": "Other",
        "notebook": "BasicMagics",
        "page": "BasicMagics",
        "pastebin": "CodeMagics",
        "pdb": "ExecutionMagics",
        "pdef": "NamespaceMagics",
        "pdoc": "NamespaceMagics",
        "pfile": "NamespaceMagics",
        "pinfo": "NamespaceMagics",
        "pinfo2": "NamespaceMagics",
        "pip": "PackagingMagics",
        "popd": "OSMagics",
        "pprint": "BasicMagics",
        "precision": "BasicMagics",
        "prun": "ExecutionMagics",
        "psearch": "NamespaceMagics",
        "psource": "NamespaceMagics",
        "pushd": "OSMagics",
        "pwd": "OSMagics",
        "pycat": "OSMagics",
        "pylab": "PylabMagics",
        "qtconsole": "KernelMagics",
        "quickref": "BasicMagics",
        "recall": "HistoryMagics",
        "rehashx": "OSMagics",
        "reload_ext": "ExtensionMagics",
        "rep": "Other",
        "rerun": "HistoryMagics",
        "reset": "NamespaceMagics",
        "reset_selective": "NamespaceMagics",
        "rm": "Other",
        "rmdir": "Other",
        "run": "ExecutionMagics",
        "save": "CodeMagics",
        "sc": "OSMagics",
        "set_env": "OSMagics",
        "store": "StoreMagics",
        "sx": "OSMagics",
        "system": "OSMagics",
        "tb": "ExecutionMagics",
        "time": "ExecutionMagics",
        "timeit": "ExecutionMagics",
        "unalias": "OSMagics",
        "unload_ext": "ExtensionMagics",
        "uv": "PackagingMagics",
        "who": "NamespaceMagics",
        "who_ls": "NamespaceMagics",
        "whos": "NamespaceMagics",
        "xdel": "NamespaceMagics",
        "xmode": "BasicMagics"
       }
      },
      "text/plain": [
       "Available line magics:\n",
       "%alias  %alias_magic  %autoawait  %autocall  %automagic  %autosave  %bookmark  %cat  %cd  %clear  %code_wrap  %colors  %conda  %config  %connect_info  %cp  %debug  %dhist  %dirs  %doctest_mode  %ed  %edit  %env  %gui  %hist  %history  %killbgscripts  %ldir  %less  %lf  %lk  %ll  %load  %load_ext  %loadpy  %logoff  %logon  %logstart  %logstate  %logstop  %ls  %lsmagic  %lx  %macro  %magic  %mamba  %man  %matplotlib  %micromamba  %mkdir  %more  %mv  %notebook  %page  %pastebin  %pdb  %pdef  %pdoc  %pfile  %pinfo  %pinfo2  %pip  %popd  %pprint  %precision  %prun  %psearch  %psource  %pushd  %pwd  %pycat  %pylab  %qtconsole  %quickref  %recall  %rehashx  %reload_ext  %rep  %rerun  %reset  %reset_selective  %rm  %rmdir  %run  %save  %sc  %set_env  %store  %sx  %system  %tb  %time  %timeit  %unalias  %unload_ext  %uv  %who  %who_ls  %whos  %xdel  %xmode\n",
       "\n",
       "Available cell magics:\n",
       "%%!  %%HTML  %%SVG  %%bash  %%capture  %%code_wrap  %%debug  %%file  %%html  %%javascript  %%js  %%latex  %%markdown  %%perl  %%prun  %%pypy  %%python  %%python2  %%python3  %%ruby  %%script  %%sh  %%svg  %%sx  %%system  %%time  %%timeit  %%writefile\n",
       "\n",
       "Automagic is ON, % prefix IS NOT needed for line magics."
      ]
     },
     "execution_count": 5,
     "metadata": {},
     "output_type": "execute_result"
    }
   ],
   "source": [
    "%lsmagic"
   ]
  },
  {
   "cell_type": "code",
   "execution_count": 6,
   "id": "1d6e8cfe-122a-4154-a18a-2ddcc3709f96",
   "metadata": {},
   "outputs": [
    {
     "name": "stdout",
     "output_type": "stream",
     "text": [
      "/home/freeze/miniconda3/envs/onemanstreasure/bin/python\n"
     ]
    }
   ],
   "source": [
    "!which python"
   ]
  },
  {
   "cell_type": "code",
   "execution_count": 7,
   "id": "8f9a3363-a213-428d-bc23-03484eb81e79",
   "metadata": {},
   "outputs": [
    {
     "name": "stdout",
     "output_type": "stream",
     "text": [
      "Python 3.10.0\n"
     ]
    }
   ],
   "source": [
    "!python --version"
   ]
  },
  {
   "cell_type": "code",
   "execution_count": 1,
   "id": "b22480ce",
   "metadata": {},
   "outputs": [
    {
     "name": "stderr",
     "output_type": "stream",
     "text": [
      "/home/freeze/miniconda3/envs/onemanstreasure/lib/python3.10/site-packages/tqdm/auto.py:21: TqdmWarning: IProgress not found. Please update jupyter and ipywidgets. See https://ipywidgets.readthedocs.io/en/stable/user_install.html\n",
      "  from .autonotebook import tqdm as notebook_tqdm\n"
     ]
    },
    {
     "name": "stdout",
     "output_type": "stream",
     "text": [
      "<module 'fiftyone' from '/home/freeze/miniconda3/envs/onemanstreasure/lib/python3.10/site-packages/fiftyone/__init__.py'>\n"
     ]
    }
   ],
   "source": [
    "import fiftyone as fo\n",
    "\n",
    "print(fo)"
   ]
  },
  {
   "cell_type": "code",
   "execution_count": null,
   "id": "9625e0f7",
   "metadata": {},
   "outputs": [],
   "source": []
  }
 ],
 "metadata": {
  "kernelspec": {
   "display_name": "onemanstreasure",
   "language": "python",
   "name": "python3"
  },
  "language_info": {
   "codemirror_mode": {
    "name": "ipython",
    "version": 3
   },
   "file_extension": ".py",
   "mimetype": "text/x-python",
   "name": "python",
   "nbconvert_exporter": "python",
   "pygments_lexer": "ipython3",
   "version": "3.10.0"
  }
 },
 "nbformat": 4,
 "nbformat_minor": 5
}
