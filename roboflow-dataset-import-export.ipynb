{
 "cells": [
  {
   "cell_type": "markdown",
   "metadata": {},
   "source": [
    "#evtl müsst ihr noch die project.version ändern, wenn ihr mehrere datensätze bei roboflow habt"
   ]
  },
  {
   "cell_type": "code",
   "execution_count": null,
   "metadata": {
    "colab": {
     "base_uri": "https://localhost:8080/"
    },
    "collapsed": true,
    "executionInfo": {
     "elapsed": 17545,
     "status": "ok",
     "timestamp": 1750078388474,
     "user": {
      "displayName": "Philip Czako",
      "userId": "12219797703276010316"
     },
     "user_tz": -120
    },
    "id": "luUidRg2CqBr",
    "jupyter": {
     "outputs_hidden": true
    },
    "outputId": "18ae3c65-8afe-40c3-c45c-6443f7bf7fbc"
   },
   "outputs": [
    {
     "name": "stdout",
     "output_type": "stream",
     "text": [
      "AgfWlgODe2lXi5Nh5VTu\n",
      "loading Roboflow workspace...\n",
      "loading Roboflow project...\n"
     ]
    },
    {
     "name": "stderr",
     "output_type": "stream",
     "text": [
      "Downloading Dataset Version Zip in room312_and_leuthener-1 to yolov8:: 100%|██████████| 3836/3836 [00:01<00:00, 3644.81it/s]"
     ]
    },
    {
     "name": "stdout",
     "output_type": "stream",
     "text": [
      "\n"
     ]
    },
    {
     "name": "stderr",
     "output_type": "stream",
     "text": [
      "\n",
      "Extracting Dataset Version Zip to room312_and_leuthener-1 in yolov8:: 100%|██████████| 86/86 [00:00<00:00, 7108.01it/s]\n"
     ]
    }
   ],
   "source": [
    "from dotenv import load_dotenv\n",
    "import os\n",
    "from roboflow import Roboflow\n",
    "\n",
    "load_dotenv(\"settings.env\")\n",
    "\n",
    "print(os.environ[\"ROBOFLOW_API_KEY\"])\n",
    "\n",
    "rf = Roboflow(api_key=os.environ[\"ROBOFLOW_API_KEY\"])\n",
    "project = rf.workspace(os.environ[\"ROBOFLOW_WORKSPACE\"]).project(os.environ[\"ROBOFLOW_PROJECT\"])\n",
    "version = project.version(os.environ[\"ROBOFLOW_DATASET_VERSION\"])\n",
    "dataset = version.download(\"yolov8\")\n",
    "\n",
    "\n",
    "\n"
   ]
  },
  {
   "cell_type": "markdown",
   "metadata": {},
   "source": [
    "#hier wird der datensatz in die ordnerstruktur eingefügt und für alle bearbeitbar gemacht"
   ]
  },
  {
   "cell_type": "code",
   "execution_count": 20,
   "metadata": {},
   "outputs": [],
   "source": [
    "load_dotenv(\"settings.env\")\n",
    "\n",
    "!mv ./{os.environ[\"ROBOFLOW_PROJECT\"]}-* datasets/{os.environ[\"BUILDING_COMPONENT\"]}\n",
    "!chmod -R 777 datasets/{os.environ[\"BUILDING_COMPONENT\"]}"
   ]
  },
  {
   "cell_type": "code",
   "execution_count": null,
   "metadata": {},
   "outputs": [],
   "source": []
  }
 ],
 "metadata": {
  "accelerator": "GPU",
  "colab": {
   "gpuType": "T4",
   "provenance": [
    {
     "file_id": "1mLcgELaBF2thqJZuZcwU2W_37OSi21Ly",
     "timestamp": 1747919180601
    }
   ]
  },
  "kernelspec": {
   "display_name": "onemanstreasure",
   "language": "python",
   "name": "python3"
  },
  "language_info": {
   "codemirror_mode": {
    "name": "ipython",
    "version": 3
   },
   "file_extension": ".py",
   "mimetype": "text/x-python",
   "name": "python",
   "nbconvert_exporter": "python",
   "pygments_lexer": "ipython3",
   "version": "3.10.0"
  }
 },
 "nbformat": 4,
 "nbformat_minor": 4
}
